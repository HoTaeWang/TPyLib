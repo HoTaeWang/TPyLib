{
 "cells": [
  {
   "cell_type": "code",
   "execution_count": null,
   "id": "adequate-closure",
   "metadata": {},
   "outputs": [],
   "source": [
    "# 필요한 라인은 어떻게 집어 넣을 것인가?\n"
   ]
  },
  {
   "cell_type": "code",
   "execution_count": null,
   "id": "apparent-palestinian",
   "metadata": {},
   "outputs": [],
   "source": [
    "import cv2 as cv\n",
    "import sys\n",
    "\n",
    "print(\"OpenCV version \" + cv.__version__)\n",
    "\n",
    "def main(argv):\n",
    "    print(\"\"\"\n",
    "    Zoom In-Out demo\n",
    "    -----------------\n",
    "    * [i] -> Zoom [i]n\n",
    "    * [o] -> Zoom [o]ut\n",
    "    * [ESC] -> Close program\n",
    "    \"\"\")\n",
    "    fileName = argv"
   ]
  },
  {
   "cell_type": "markdown",
   "id": "missing-trace",
   "metadata": {},
   "source": [
    "import cv2 as cv\n",
    "import sys\n",
    "\n",
    "print(\"OpenCV version \" + cv.__version__)\n"
   ]
  }
 ],
 "metadata": {
  "kernelspec": {
   "display_name": "Python 3",
   "language": "python",
   "name": "python3"
  },
  "language_info": {
   "codemirror_mode": {
    "name": "ipython",
    "version": 3
   },
   "file_extension": ".py",
   "mimetype": "text/x-python",
   "name": "python",
   "nbconvert_exporter": "python",
   "pygments_lexer": "ipython3",
   "version": "3.7.10"
  }
 },
 "nbformat": 4,
 "nbformat_minor": 5
}
