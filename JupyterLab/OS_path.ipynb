{
 "cells": [
  {
   "cell_type": "markdown",
   "id": "iraqi-sequence",
   "metadata": {},
   "source": [
    "# OS Path (Join Path)\n"
   ]
  },
  {
   "cell_type": "code",
   "execution_count": 1,
   "id": "settled-stevens",
   "metadata": {},
   "outputs": [
    {
     "data": {
      "text/plain": [
       "'a\\\\b\\\\c'"
      ]
     },
     "execution_count": 1,
     "metadata": {},
     "output_type": "execute_result"
    }
   ],
   "source": [
    "import os\n",
    "os.path.join('a', 'b', 'c')"
   ]
  },
  {
   "cell_type": "code",
   "execution_count": 4,
   "id": "fifty-throat",
   "metadata": {},
   "outputs": [
    {
     "name": "stdout",
     "output_type": "stream",
     "text": [
      "C:\\Users\\sabio.kim\n",
      "foo.txt\n",
      "('C:\\\\Users', 'sabio.kim')\n",
      "('foo', '.txt')\n"
     ]
    }
   ],
   "source": [
    "p = os.path.join(os.getcwd(), 'foo.txt')\n",
    "p\n",
    "print(os.path.dirname(p))\n",
    "print(os.path.basename(p))\n",
    "print(os.path.split(os.getcwd()))\n",
    "print(os.path.splitext(os.path.basename(p)))\n"
   ]
  }
 ],
 "metadata": {
  "kernelspec": {
   "display_name": "Python 3",
   "language": "python",
   "name": "python3"
  },
  "language_info": {
   "codemirror_mode": {
    "name": "ipython",
    "version": 3
   },
   "file_extension": ".py",
   "mimetype": "text/x-python",
   "name": "python",
   "nbconvert_exporter": "python",
   "pygments_lexer": "ipython3",
   "version": "3.7.10"
  }
 },
 "nbformat": 4,
 "nbformat_minor": 5
}
