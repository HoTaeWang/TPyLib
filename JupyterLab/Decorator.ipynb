{
 "cells": [
  {
   "cell_type": "markdown",
   "id": "sorted-moral",
   "metadata": {},
   "source": [
    "# Decorators\n"
   ]
  },
  {
   "cell_type": "code",
   "execution_count": 2,
   "id": "secondary-receptor",
   "metadata": {},
   "outputs": [],
   "source": [
    "import os\n",
    "import sys\n",
    "\n",
    "## This simplest decorator does nothing to the function being decorated.\n",
    "## Such minimal decorators can occasionally be used as a kind of code markers.\n",
    "def super_secret_function(f):\n",
    "    return f\n",
    "\n",
    "@super_secret_function\n",
    "def my_function():\n",
    "    print(\"This is my secret function.\")\n",
    "    \n",
    "\n",
    "my_function = super_secret_function(my_function)"
   ]
  },
  {
   "cell_type": "code",
   "execution_count": null,
   "id": "fiscal-prize",
   "metadata": {},
   "outputs": [],
   "source": []
  },
  {
   "cell_type": "code",
   "execution_count": null,
   "id": "variable-wagon",
   "metadata": {},
   "outputs": [],
   "source": []
  },
  {
   "cell_type": "code",
   "execution_count": null,
   "id": "mighty-waterproof",
   "metadata": {},
   "outputs": [],
   "source": []
  }
 ],
 "metadata": {
  "kernelspec": {
   "display_name": "Python 3",
   "language": "python",
   "name": "python3"
  },
  "language_info": {
   "codemirror_mode": {
    "name": "ipython",
    "version": 3
   },
   "file_extension": ".py",
   "mimetype": "text/x-python",
   "name": "python",
   "nbconvert_exporter": "python",
   "pygments_lexer": "ipython3",
   "version": "3.7.10"
  }
 },
 "nbformat": 4,
 "nbformat_minor": 5
}
