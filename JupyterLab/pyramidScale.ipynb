{
 "cells": [
  {
   "cell_type": "code",
   "execution_count": 1,
   "id": "incorrect-beijing",
   "metadata": {},
   "outputs": [
    {
     "name": "stdout",
     "output_type": "stream",
     "text": [
      "['D:\\\\Anaconda3\\\\lib\\\\site-packages\\\\ipykernel_launcher.py', '-f', 'C:\\\\Users\\\\sabio.kim\\\\AppData\\\\Roaming\\\\jupyter\\\\runtime\\\\kernel-ed4f33cb-5c37-4760-89e5-844c6bd5cd1d.json']\n"
     ]
    }
   ],
   "source": [
    "import sys\n",
    "import cv2 as cv\n",
    "\n",
    "print(sys.argv)\n",
    "\n",
    "def main(argv):\n",
    "    print(argv)\n",
    "    \n",
    "    fileName = argv[0] if len(argv) > 0 else 'chicky_512.png'\n",
    "    \n",
    "    return 0\n",
    "\n",
    "if __name__ == \"pyramidScale.ipynb\":\n",
    "    main(sys.argv[1:])\n",
    "    \n",
    "    "
   ]
  },
  {
   "cell_type": "code",
   "execution_count": null,
   "id": "suffering-sample",
   "metadata": {},
   "outputs": [],
   "source": []
  }
 ],
 "metadata": {
  "kernelspec": {
   "display_name": "Python 3",
   "language": "python",
   "name": "python3"
  },
  "language_info": {
   "codemirror_mode": {
    "name": "ipython",
    "version": 3
   },
   "file_extension": ".py",
   "mimetype": "text/x-python",
   "name": "python",
   "nbconvert_exporter": "python",
   "pygments_lexer": "ipython3",
   "version": "3.7.10"
  }
 },
 "nbformat": 4,
 "nbformat_minor": 5
}
